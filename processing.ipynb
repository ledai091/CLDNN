{
 "cells": [
  {
   "cell_type": "code",
   "execution_count": 2,
   "metadata": {},
   "outputs": [],
   "source": [
    "import cv2\n",
    "import os\n",
    "from glob import glob\n",
    "import pandas as pd"
   ]
  },
  {
   "cell_type": "code",
   "execution_count": 99,
   "metadata": {},
   "outputs": [],
   "source": [
    "list_dir = glob('data/Phase1/*/**.mp4')"
   ]
  },
  {
   "cell_type": "code",
   "execution_count": 95,
   "metadata": {},
   "outputs": [],
   "source": [
    "list_dir = [dir.replace('.mp4', '') for dir in list_dir]"
   ]
  },
  {
   "cell_type": "code",
   "execution_count": null,
   "metadata": {},
   "outputs": [],
   "source": []
  },
  {
   "cell_type": "code",
   "execution_count": 96,
   "metadata": {},
   "outputs": [
    {
     "data": {
      "text/plain": [
       "['data/Phase1/Thang12/10_220126_well02_zid99_0',\n",
       " 'data/Phase1/Thang12/11_220276A_well10_zid99_1',\n",
       " 'data/Phase1/Thang12/12_220450_well03_zid99_2',\n",
       " 'data/Phase1/Thang12/13_220448_well02_zid99_3',\n",
       " 'data/Phase1/Thang12/14_220431_well02_zid99_4',\n",
       " 'data/Phase1/Thang12/16_220484_well09_zid99_5',\n",
       " 'data/Phase1/Thang12/18_220471_well11_zid99_6',\n",
       " 'data/Phase1/Thang12/19_220427_well10_zid99_7',\n",
       " 'data/Phase1/Thang12/1_220192_well07_zid99_8',\n",
       " 'data/Phase1/Thang12/20 _220381_well01_zid99_9',\n",
       " 'data/Phase1/Thang12/21_220245_well10_zid99_10',\n",
       " 'data/Phase1/Thang12/23_220485A_well09_zid99_11',\n",
       " 'data/Phase1/Thang12/25_220388_well08_zid99_12',\n",
       " 'data/Phase1/Thang12/26_220393_well11_zid99_13',\n",
       " 'data/Phase1/Thang12/27_220377_well04_zid99_14',\n",
       " 'data/Phase1/Thang12/28_220457_well09_zid99_15',\n",
       " 'data/Phase1/Thang12/32_220452_well04_zid99_16',\n",
       " 'data/Phase1/Thang12/33_220402_well09_zid99_17',\n",
       " 'data/Phase1/Thang12/8_220231_well02_zid99_18',\n",
       " 'data/Phase1/Thang12/9_220417A_well01_zid99_19',\n",
       " 'data/Phase1/Thang3/230008_well04_zid99_21',\n",
       " 'data/Phase1/Thang3/2_220243_well02_zid99_31',\n",
       " 'data/Phase1/Thang3/3_220009_well03_zid99_43',\n",
       " 'data/Phase1/Thang3/10_220452_well10_zid99_27',\n",
       " 'data/Phase1/Thang3/11_220276A_well11_zid99_28',\n",
       " 'data/Phase1/Thang3/1_220013_well01_zid99_29',\n",
       " 'data/Phase1/Thang3/1_220467_well01_zid99_22',\n",
       " 'data/Phase1/Thang3/1_230013_well04_zid99_23',\n",
       " 'data/Phase1/Thang3/1_230033_well01_zid99_24',\n",
       " 'data/Phase1/Thang3/1_230054_well01_zid99_25',\n",
       " 'data/Phase1/Thang3/1_230064_well01_zid99_26',\n",
       " 'data/Phase1/Thang3/220013_well01_zid99_20',\n",
       " 'data/Phase1/Thang3/220134_well05_zid99_57',\n",
       " 'data/Phase1/Thang3/220240_well09_zid99_58',\n",
       " 'data/Phase1/Thang3/220375_well13_zid99_59',\n",
       " 'data/Phase1/Thang3/220385_well02_zid99_60',\n",
       " 'data/Phase1/Thang3/220417A_well04_zid99_61',\n",
       " 'data/Phase1/Thang3/220434_well06_zid99_62',\n",
       " 'data/Phase1/Thang3/220464_well02_zid99_63',\n",
       " 'data/Phase1/Thang3/220466_well07_zid99_64',\n",
       " 'data/Phase1/Thang3/220474_well02_zid99_65',\n",
       " 'data/Phase1/Thang3/220481_well02_zid99_66',\n",
       " 'data/Phase1/Thang3/230001_well01_zid99_67',\n",
       " 'data/Phase1/Thang3/2_220464_well02_zid99_33',\n",
       " 'data/Phase1/Thang3/2_220474_well02_zid99_30',\n",
       " 'data/Phase1/Thang3/2_230022A_well02_zid99_34',\n",
       " 'data/Phase1/Thang3/2_230059_well04_zid04_35',\n",
       " 'data/Phase1/Thang3/230011_well11_zid99_36',\n",
       " 'data/Phase1/Thang3/230013_well04_zid99_37',\n",
       " 'data/Phase1/Thang3/230014_well04_zid99_38',\n",
       " 'data/Phase1/Thang3/230024_well09_zid99_39',\n",
       " 'data/Phase1/Thang3/230027_well01_zid99_40',\n",
       " 'data/Phase1/Thang3/230032_well05_zid99_41',\n",
       " 'data/Phase1/Thang3/230043_well08_zid99_42',\n",
       " 'data/Phase1/Thang3/3_220358_well03_zid99_44',\n",
       " 'data/Phase1/Thang3/3_230052_well03_zid99_45',\n",
       " 'data/Phase1/Thang3/3_230076_well03_zid99_46',\n",
       " 'data/Phase1/Thang3/4_220365_well04_zid99_47',\n",
       " 'data/Phase1/Thang3/4_230008_well04_zid99_48',\n",
       " 'data/Phase1/Thang3/4_230061_well04_zid04_49',\n",
       " 'data/Phase1/Thang3/5_220134_well05_zid99_50',\n",
       " 'data/Phase1/Thang3/5_230040_well05_zid99_51',\n",
       " 'data/Phase1/Thang3/6_220356_well06_zid99_52',\n",
       " 'data/Phase1/Thang3/6_220427_well06_zid99_53',\n",
       " 'data/Phase1/Thang3/6_230047_well06_zid99_54',\n",
       " 'data/Phase1/Thang3/7_230068_well07_zid04_55',\n",
       " 'data/Phase1/Thang3/8_220411_well08_zid99_56',\n",
       " 'data/Phase1/Thang4/2_230142_well02_zid99_68',\n",
       " 'data/Phase1/Thang4/5_220030_well05_zid99_101',\n",
       " 'data/Phase1/Thang4/10_230015_well10_zid99_82',\n",
       " 'data/Phase1/Thang4/10_230138_well10_zid99_83',\n",
       " 'data/Phase1/Thang4/10_230148_well10_zid99_84',\n",
       " 'data/Phase1/Thang4/11_230056A_well11_zid99_85',\n",
       " 'data/Phase1/Thang4/12_220483_well12_zid04_86',\n",
       " 'data/Phase1/Thang4/13_230118_well13_zid99_87',\n",
       " 'data/Phase1/Thang4/16_3AA_220275_well16_zid99_88',\n",
       " 'data/Phase1/Thang4/1_210131_well01_zid99_70',\n",
       " 'data/Phase1/Thang4/1_220140_well01_zid99_71',\n",
       " 'data/Phase1/Thang4/1_220313_well01_zid99_72',\n",
       " 'data/Phase1/Thang4/1_220447_well01_zid99_73',\n",
       " 'data/Phase1/Thang4/1_220455_well01_zid99_74',\n",
       " 'data/Phase1/Thang4/1_220465_well01_zid99_75',\n",
       " 'data/Phase1/Thang4/1_220490_well01_zid99_76',\n",
       " 'data/Phase1/Thang4/1_230065_well01_zid99_77',\n",
       " 'data/Phase1/Thang4/1_230071_well01_zid99_78',\n",
       " 'data/Phase1/Thang4/1_230104_well01_zid99_79',\n",
       " 'data/Phase1/Thang4/1_230112_well01_zid99_80',\n",
       " 'data/Phase1/Thang4/1_230137_well01_zid99_81',\n",
       " 'data/Phase1/Thang4/2_220091_well02_zid99_89',\n",
       " 'data/Phase1/Thang4/2_230044_well02_zid99_90',\n",
       " 'data/Phase1/Thang4/2_230091_well02_zid99_91',\n",
       " 'data/Phase1/Thang4/3_230098_well04_zid99_92',\n",
       " 'data/Phase1/Thang4/3_230109_well03_zid99_93',\n",
       " 'data/Phase1/Thang4/3_230130_well03_zid99_94',\n",
       " 'data/Phase1/Thang4/4_220266_well04_zid99_95',\n",
       " 'data/Phase1/Thang4/4_220426_well04_zid99_96',\n",
       " 'data/Phase1/Thang4/4_220449_well04_zid99_97',\n",
       " 'data/Phase1/Thang4/4_230006_well04_zid99_98',\n",
       " 'data/Phase1/Thang4/4_230086_well04_zid99_99',\n",
       " 'data/Phase1/Thang4/4_230143_well04_zid99_100',\n",
       " 'data/Phase1/Thang4/5_220140_well05_zid99_102',\n",
       " 'data/Phase1/Thang4/5_230050_well05_zid99_103',\n",
       " 'data/Phase1/Thang4/5_230075_well05_zid99_69',\n",
       " 'data/Phase1/Thang4/5_230084A_well05_zid99_104',\n",
       " 'data/Phase1/Thang4/5_230096_well05_zid99_105',\n",
       " 'data/Phase1/Thang4/5_230125_well05_zid99_106',\n",
       " 'data/Phase1/Thang4/6_230094_well06_zid99_107',\n",
       " 'data/Phase1/Thang4/6_230103_well06_zid99_108',\n",
       " 'data/Phase1/Thang4/6_230124_well06_zid99_109',\n",
       " 'data/Phase1/Thang4/7_230026_well07_zid99_110',\n",
       " 'data/Phase1/Thang4/7_230122_well07_zid99_111',\n",
       " 'data/Phase1/Thang4/8_230119_well08_zid99_112',\n",
       " 'data/Phase1/Thang4/9_220405_well09_zid99_113',\n",
       " 'data/Phase1/Thang4/9_230038_well09_zid99_114']"
      ]
     },
     "execution_count": 96,
     "metadata": {},
     "output_type": "execute_result"
    }
   ],
   "source": [
    "list_dir"
   ]
  },
  {
   "cell_type": "code",
   "execution_count": 100,
   "metadata": {},
   "outputs": [],
   "source": [
    "def get_img(video_path):\n",
    "    cap = cv2.VideoCapture(video_path)\n",
    "    frame_rate = cap.get(cv2.CAP_PROP_FPS)\n",
    "    interval = int(frame_rate)\n",
    "    # Check if video opened successfully\n",
    "    if not cap.isOpened():\n",
    "        print(f\"Error opening video file: {video_path}\")\n",
    "        return\n",
    "    count = 0\n",
    "    frame_count = 0\n",
    "    # Process video frames (example code, modify as needed)\n",
    "    video_path = video_path.replace('.mp4', '')\n",
    "    path_img = '/'.join(video_path.split('/')[-2:])\n",
    "    dir = f'img/{path_img}'\n",
    "    sub1 = video_path.split('/')[-2]\n",
    "    sub2 = video_path.split('/')[-1].split('_')[-4]\n",
    "    # Use os.makedirs() instead of os.mkdir()\n",
    "    if not os.path.exists(dir):\n",
    "        os.makedirs(dir)\n",
    "    while cap.isOpened():\n",
    "        ret, frame = cap.read()\n",
    "        if ret:\n",
    "            if frame_count % interval == 0:\n",
    "                gray = cv2.cvtColor(frame, cv2.COLOR_BGR2GRAY)\n",
    "                frame_filename = f\"{dir}/{sub1}_{sub2}_frame_{count}.jpg\"\n",
    "                cv2.imwrite(frame_filename, gray)\n",
    "                count += 1\n",
    "            frame_count += 1\n",
    "        else:\n",
    "            break\n",
    "        \n",
    "    cap.release()"
   ]
  },
  {
   "cell_type": "code",
   "execution_count": 101,
   "metadata": {},
   "outputs": [],
   "source": [
    "for dir in list_dir:\n",
    "    get_img(dir)"
   ]
  },
  {
   "cell_type": "code",
   "execution_count": 102,
   "metadata": {},
   "outputs": [
    {
     "data": {
      "text/plain": [
       "114"
      ]
     },
     "execution_count": 102,
     "metadata": {},
     "output_type": "execute_result"
    }
   ],
   "source": [
    "len(glob('img/*/**'))"
   ]
  },
  {
   "cell_type": "code",
   "execution_count": 103,
   "metadata": {},
   "outputs": [],
   "source": [
    "img_paths = glob('img/*/**')"
   ]
  },
  {
   "cell_type": "code",
   "execution_count": 104,
   "metadata": {},
   "outputs": [
    {
     "data": {
      "text/plain": [
       "['img/Thang12/10_220126_well02_zid99_0',\n",
       " 'img/Thang12/11_220276A_well10_zid99_1',\n",
       " 'img/Thang12/12_220450_well03_zid99_2',\n",
       " 'img/Thang12/13_220448_well02_zid99_3',\n",
       " 'img/Thang12/14_220431_well02_zid99_4',\n",
       " 'img/Thang12/16_220484_well09_zid99_5',\n",
       " 'img/Thang12/18_220471_well11_zid99_6',\n",
       " 'img/Thang12/19_220427_well10_zid99_7',\n",
       " 'img/Thang12/1_220192_well07_zid99_8',\n",
       " 'img/Thang12/20 _220381_well01_zid99_9',\n",
       " 'img/Thang12/21_220245_well10_zid99_10',\n",
       " 'img/Thang12/23_220485A_well09_zid99_11',\n",
       " 'img/Thang12/25_220388_well08_zid99_12',\n",
       " 'img/Thang12/26_220393_well11_zid99_13',\n",
       " 'img/Thang12/27_220377_well04_zid99_14',\n",
       " 'img/Thang12/28_220457_well09_zid99_15',\n",
       " 'img/Thang12/32_220452_well04_zid99_16',\n",
       " 'img/Thang12/33_220402_well09_zid99_17',\n",
       " 'img/Thang12/8_220231_well02_zid99_18',\n",
       " 'img/Thang12/9_220417A_well01_zid99_19',\n",
       " 'img/Thang3/220464_well02_zid99_63',\n",
       " 'img/Thang3/2_230022A_well02_zid99_34',\n",
       " 'img/Thang3/10_220452_well10_zid99_27',\n",
       " 'img/Thang3/11_220276A_well11_zid99_28',\n",
       " 'img/Thang3/1_220013_well01_zid99_29',\n",
       " 'img/Thang3/1_220467_well01_zid99_22',\n",
       " 'img/Thang3/1_230013_well04_zid99_23',\n",
       " 'img/Thang3/1_230033_well01_zid99_24',\n",
       " 'img/Thang3/1_230054_well01_zid99_25',\n",
       " 'img/Thang3/1_230064_well01_zid99_26',\n",
       " 'img/Thang3/220013_well01_zid99_20',\n",
       " 'img/Thang3/220134_well05_zid99_57',\n",
       " 'img/Thang3/220240_well09_zid99_58',\n",
       " 'img/Thang3/220375_well13_zid99_59',\n",
       " 'img/Thang3/220385_well02_zid99_60',\n",
       " 'img/Thang3/220417A_well04_zid99_61',\n",
       " 'img/Thang3/220434_well06_zid99_62',\n",
       " 'img/Thang3/220466_well07_zid99_64',\n",
       " 'img/Thang3/220474_well02_zid99_65',\n",
       " 'img/Thang3/220481_well02_zid99_66',\n",
       " 'img/Thang3/230001_well01_zid99_67',\n",
       " 'img/Thang3/230008_well04_zid99_21',\n",
       " 'img/Thang3/230011_well11_zid99_36',\n",
       " 'img/Thang3/230013_well04_zid99_37',\n",
       " 'img/Thang3/230014_well04_zid99_38',\n",
       " 'img/Thang3/230024_well09_zid99_39',\n",
       " 'img/Thang3/230027_well01_zid99_40',\n",
       " 'img/Thang3/230032_well05_zid99_41',\n",
       " 'img/Thang3/230043_well08_zid99_42',\n",
       " 'img/Thang3/2_220243_well02_zid99_31',\n",
       " 'img/Thang3/2_220464_well02_zid99_33',\n",
       " 'img/Thang3/2_220474_well02_zid99_30',\n",
       " 'img/Thang3/2_230059_well04_zid04_35',\n",
       " 'img/Thang3/3_220009_well03_zid99_43',\n",
       " 'img/Thang3/3_220358_well03_zid99_44',\n",
       " 'img/Thang3/3_230052_well03_zid99_45',\n",
       " 'img/Thang3/3_230076_well03_zid99_46',\n",
       " 'img/Thang3/4_220365_well04_zid99_47',\n",
       " 'img/Thang3/4_230008_well04_zid99_48',\n",
       " 'img/Thang3/4_230061_well04_zid04_49',\n",
       " 'img/Thang3/5_220134_well05_zid99_50',\n",
       " 'img/Thang3/5_230040_well05_zid99_51',\n",
       " 'img/Thang3/6_220356_well06_zid99_52',\n",
       " 'img/Thang3/6_220427_well06_zid99_53',\n",
       " 'img/Thang3/6_230047_well06_zid99_54',\n",
       " 'img/Thang3/7_230068_well07_zid04_55',\n",
       " 'img/Thang3/8_220411_well08_zid99_56',\n",
       " 'img/Thang4/1_230065_well01_zid99_77',\n",
       " 'img/Thang4/4_230006_well04_zid99_98',\n",
       " 'img/Thang4/10_230015_well10_zid99_82',\n",
       " 'img/Thang4/10_230138_well10_zid99_83',\n",
       " 'img/Thang4/10_230148_well10_zid99_84',\n",
       " 'img/Thang4/11_230056A_well11_zid99_85',\n",
       " 'img/Thang4/12_220483_well12_zid04_86',\n",
       " 'img/Thang4/13_230118_well13_zid99_87',\n",
       " 'img/Thang4/16_3AA_220275_well16_zid99_88',\n",
       " 'img/Thang4/1_210131_well01_zid99_70',\n",
       " 'img/Thang4/1_220140_well01_zid99_71',\n",
       " 'img/Thang4/1_220313_well01_zid99_72',\n",
       " 'img/Thang4/1_220447_well01_zid99_73',\n",
       " 'img/Thang4/1_220455_well01_zid99_74',\n",
       " 'img/Thang4/1_220465_well01_zid99_75',\n",
       " 'img/Thang4/1_220490_well01_zid99_76',\n",
       " 'img/Thang4/1_230071_well01_zid99_78',\n",
       " 'img/Thang4/1_230104_well01_zid99_79',\n",
       " 'img/Thang4/1_230112_well01_zid99_80',\n",
       " 'img/Thang4/1_230137_well01_zid99_81',\n",
       " 'img/Thang4/2_220091_well02_zid99_89',\n",
       " 'img/Thang4/2_230044_well02_zid99_90',\n",
       " 'img/Thang4/2_230091_well02_zid99_91',\n",
       " 'img/Thang4/2_230142_well02_zid99_68',\n",
       " 'img/Thang4/3_230098_well04_zid99_92',\n",
       " 'img/Thang4/3_230109_well03_zid99_93',\n",
       " 'img/Thang4/3_230130_well03_zid99_94',\n",
       " 'img/Thang4/4_220266_well04_zid99_95',\n",
       " 'img/Thang4/4_220426_well04_zid99_96',\n",
       " 'img/Thang4/4_220449_well04_zid99_97',\n",
       " 'img/Thang4/4_230086_well04_zid99_99',\n",
       " 'img/Thang4/4_230143_well04_zid99_100',\n",
       " 'img/Thang4/5_220030_well05_zid99_101',\n",
       " 'img/Thang4/5_220140_well05_zid99_102',\n",
       " 'img/Thang4/5_230050_well05_zid99_103',\n",
       " 'img/Thang4/5_230075_well05_zid99_69',\n",
       " 'img/Thang4/5_230084A_well05_zid99_104',\n",
       " 'img/Thang4/5_230096_well05_zid99_105',\n",
       " 'img/Thang4/5_230125_well05_zid99_106',\n",
       " 'img/Thang4/6_230094_well06_zid99_107',\n",
       " 'img/Thang4/6_230103_well06_zid99_108',\n",
       " 'img/Thang4/6_230124_well06_zid99_109',\n",
       " 'img/Thang4/7_230026_well07_zid99_110',\n",
       " 'img/Thang4/7_230122_well07_zid99_111',\n",
       " 'img/Thang4/8_230119_well08_zid99_112',\n",
       " 'img/Thang4/9_220405_well09_zid99_113',\n",
       " 'img/Thang4/9_230038_well09_zid99_114']"
      ]
     },
     "execution_count": 104,
     "metadata": {},
     "output_type": "execute_result"
    }
   ],
   "source": [
    "img_paths"
   ]
  },
  {
   "cell_type": "code",
   "execution_count": 105,
   "metadata": {},
   "outputs": [
    {
     "data": {
      "text/plain": [
       "['Thang3', '11_220276A_well11_zid99_28.mp4']"
      ]
     },
     "execution_count": 105,
     "metadata": {},
     "output_type": "execute_result"
    }
   ],
   "source": [
    "s = 'data/Phase1/Thang3/11_220276A_well11_zid99_28.mp4'\n",
    "s.split('/')[-2:]"
   ]
  },
  {
   "cell_type": "code",
   "execution_count": 7,
   "metadata": {},
   "outputs": [],
   "source": [
    "df = pd.read_excel('label.xlsx')"
   ]
  },
  {
   "cell_type": "code",
   "execution_count": 8,
   "metadata": {},
   "outputs": [
    {
     "data": {
      "text/html": [
       "<div>\n",
       "<style scoped>\n",
       "    .dataframe tbody tr th:only-of-type {\n",
       "        vertical-align: middle;\n",
       "    }\n",
       "\n",
       "    .dataframe tbody tr th {\n",
       "        vertical-align: top;\n",
       "    }\n",
       "\n",
       "    .dataframe thead th {\n",
       "        text-align: right;\n",
       "    }\n",
       "</style>\n",
       "<table border=\"1\" class=\"dataframe\">\n",
       "  <thead>\n",
       "    <tr style=\"text-align: right;\">\n",
       "      <th></th>\n",
       "      <th>Unnamed: 0</th>\n",
       "      <th>Month.</th>\n",
       "      <th>STT</th>\n",
       "      <th>IVF CODE</th>\n",
       "      <th>Clinical pregnancy (0: No, 1:Yes)</th>\n",
       "    </tr>\n",
       "  </thead>\n",
       "  <tbody>\n",
       "    <tr>\n",
       "      <th>0</th>\n",
       "      <td>0</td>\n",
       "      <td>Thang12</td>\n",
       "      <td>1</td>\n",
       "      <td>220192</td>\n",
       "      <td>1</td>\n",
       "    </tr>\n",
       "    <tr>\n",
       "      <th>1</th>\n",
       "      <td>1</td>\n",
       "      <td>Thang12</td>\n",
       "      <td>3</td>\n",
       "      <td>220439</td>\n",
       "      <td>0</td>\n",
       "    </tr>\n",
       "    <tr>\n",
       "      <th>2</th>\n",
       "      <td>2</td>\n",
       "      <td>Thang12</td>\n",
       "      <td>4</td>\n",
       "      <td>220437</td>\n",
       "      <td>1</td>\n",
       "    </tr>\n",
       "    <tr>\n",
       "      <th>3</th>\n",
       "      <td>3</td>\n",
       "      <td>Thang12</td>\n",
       "      <td>5</td>\n",
       "      <td>220423</td>\n",
       "      <td>1</td>\n",
       "    </tr>\n",
       "    <tr>\n",
       "      <th>4</th>\n",
       "      <td>4</td>\n",
       "      <td>Thang12</td>\n",
       "      <td>6</td>\n",
       "      <td>220384</td>\n",
       "      <td>1</td>\n",
       "    </tr>\n",
       "    <tr>\n",
       "      <th>...</th>\n",
       "      <td>...</td>\n",
       "      <td>...</td>\n",
       "      <td>...</td>\n",
       "      <td>...</td>\n",
       "      <td>...</td>\n",
       "    </tr>\n",
       "    <tr>\n",
       "      <th>115</th>\n",
       "      <td>115</td>\n",
       "      <td>Thang4</td>\n",
       "      <td>157</td>\n",
       "      <td>220483</td>\n",
       "      <td>1</td>\n",
       "    </tr>\n",
       "    <tr>\n",
       "      <th>116</th>\n",
       "      <td>116</td>\n",
       "      <td>Thang4</td>\n",
       "      <td>159</td>\n",
       "      <td>230138</td>\n",
       "      <td>1</td>\n",
       "    </tr>\n",
       "    <tr>\n",
       "      <th>117</th>\n",
       "      <td>117</td>\n",
       "      <td>Thang4</td>\n",
       "      <td>160</td>\n",
       "      <td>230148</td>\n",
       "      <td>1</td>\n",
       "    </tr>\n",
       "    <tr>\n",
       "      <th>118</th>\n",
       "      <td>118</td>\n",
       "      <td>Thang4</td>\n",
       "      <td>161</td>\n",
       "      <td>220455</td>\n",
       "      <td>0</td>\n",
       "    </tr>\n",
       "    <tr>\n",
       "      <th>119</th>\n",
       "      <td>119</td>\n",
       "      <td>Thang4</td>\n",
       "      <td>162</td>\n",
       "      <td>230006</td>\n",
       "      <td>1</td>\n",
       "    </tr>\n",
       "  </tbody>\n",
       "</table>\n",
       "<p>120 rows × 5 columns</p>\n",
       "</div>"
      ],
      "text/plain": [
       "     Unnamed: 0   Month.  STT IVF CODE  Clinical pregnancy (0: No, 1:Yes)\n",
       "0             0  Thang12    1   220192                                  1\n",
       "1             1  Thang12    3   220439                                  0\n",
       "2             2  Thang12    4   220437                                  1\n",
       "3             3  Thang12    5   220423                                  1\n",
       "4             4  Thang12    6   220384                                  1\n",
       "..          ...      ...  ...      ...                                ...\n",
       "115         115   Thang4  157   220483                                  1\n",
       "116         116   Thang4  159   230138                                  1\n",
       "117         117   Thang4  160   230148                                  1\n",
       "118         118   Thang4  161   220455                                  0\n",
       "119         119   Thang4  162   230006                                  1\n",
       "\n",
       "[120 rows x 5 columns]"
      ]
     },
     "execution_count": 8,
     "metadata": {},
     "output_type": "execute_result"
    }
   ],
   "source": [
    "df"
   ]
  },
  {
   "cell_type": "code",
   "execution_count": 9,
   "metadata": {},
   "outputs": [],
   "source": [
    "keys = list(zip(df['Month.'], df['IVF CODE']))\n",
    "values = df['Clinical pregnancy (0: No, 1:Yes)'].tolist()\n",
    "result_dict = {k: v for k, v in zip(keys, values)}"
   ]
  },
  {
   "cell_type": "code",
   "execution_count": 10,
   "metadata": {},
   "outputs": [
    {
     "data": {
      "text/plain": [
       "{('Thang12', 220192): 1,\n",
       " ('Thang12', 220439): 0,\n",
       " ('Thang12', 220437): 1,\n",
       " ('Thang12', 220423): 1,\n",
       " ('Thang12', 220384): 1,\n",
       " ('Thang12', 220443): 1,\n",
       " ('Thang12', 220231): 0,\n",
       " ('Thang12', '220417A'): 0,\n",
       " ('Thang12', 220126): 1,\n",
       " ('Thang12', '220276A'): 1,\n",
       " ('Thang12', 220450): 1,\n",
       " ('Thang12', 220448): 1,\n",
       " ('Thang12', 220431): 1,\n",
       " ('Thang12', 220484): 1,\n",
       " ('Thang12', 220471): 1,\n",
       " ('Thang12', 220427): 0,\n",
       " ('Thang12', 220381): 1,\n",
       " ('Thang12', 220245): 1,\n",
       " ('Thang12', 220463): 1,\n",
       " ('Thang12', '220485A'): 0,\n",
       " ('Thang12', 220389): 1,\n",
       " ('Thang12', 220388): 1,\n",
       " ('Thang12', 220393): 0,\n",
       " ('Thang12', 220377): 0,\n",
       " ('Thang12', 220457): 1,\n",
       " ('Thang12', 220374): 0,\n",
       " ('Thang12', 220108): 0,\n",
       " ('Thang12', 220261): 1,\n",
       " ('Thang12', 220452): 0,\n",
       " ('Thang12', 220402): 1,\n",
       " ('Thang3', 220478): 0,\n",
       " ('Thang3', 220382): 1,\n",
       " ('Thang3', 220356): 1,\n",
       " ('Thang3', 220013): 0,\n",
       " ('Thang3', 230013): 1,\n",
       " ('Thang3', 230008): 0,\n",
       " ('Thang3', 220464): 1,\n",
       " ('Thang3', 220134): 0,\n",
       " ('Thang3', 220474): 0,\n",
       " ('Thang3', 220434): 1,\n",
       " ('Thang3', 230014): 1,\n",
       " ('Thang3', '220417A'): 0,\n",
       " ('Thang3', 220375): 1,\n",
       " ('Thang3', 220466): 1,\n",
       " ('Thang3', 230027): 1,\n",
       " ('Thang3', 230024): 1,\n",
       " ('Thang3', 230001): 1,\n",
       " ('Thang3', 230011): 1,\n",
       " ('Thang3', 220240): 1,\n",
       " ('Thang3', 230032): 1,\n",
       " ('Thang3', 220385): 1,\n",
       " ('Thang3', 230043): 1,\n",
       " ('Thang3', 220481): 1,\n",
       " ('Thang3', 220398): 0,\n",
       " ('Thang3', 220467): 1,\n",
       " ('Thang3', 220427): 0,\n",
       " ('Thang3', 220411): 0,\n",
       " ('Thang3', '220276A'): 1,\n",
       " ('Thang3', 220358): 1,\n",
       " ('Thang3', 230064): 1,\n",
       " ('Thang3', 220365): 1,\n",
       " ('Thang3', 230033): 1,\n",
       " ('Thang3', 230052): 1,\n",
       " ('Thang3', 230047): 1,\n",
       " ('Thang3', 230054): 0,\n",
       " ('Thang3', 220452): 1,\n",
       " ('Thang3', 230059): 1,\n",
       " ('Thang3', 230040): 0,\n",
       " ('Thang3', '230022A'): 1,\n",
       " ('Thang3', 220243): 1,\n",
       " ('Thang3', 230068): 1,\n",
       " ('Thang3', 220009): 1,\n",
       " ('Thang3', 230076): 1,\n",
       " ('Thang3', 230061): 1,\n",
       " ('Thang4', 230065): 1,\n",
       " ('Thang4', 230071): 1,\n",
       " ('Thang4', 220140): 1,\n",
       " ('Thang4', 230075): 1,\n",
       " ('Thang4', 210131): 0,\n",
       " ('Thang4', 220313): 0,\n",
       " ('Thang4', 230091): 1,\n",
       " ('Thang4', '230056A'): 1,\n",
       " ('Thang4', 230086): 1,\n",
       " ('Thang4', 220449): 1,\n",
       " ('Thang4', 220447): 1,\n",
       " ('Thang4', 230096): 1,\n",
       " ('Thang4', 220030): 1,\n",
       " ('Thang4', 230094): 1,\n",
       " ('Thang4', 230109): 1,\n",
       " ('Thang4', 230098): 1,\n",
       " ('Thang4', 220266): 1,\n",
       " ('Thang4', 230104): 1,\n",
       " ('Thang4', 230103): 1,\n",
       " ('Thang4', 230038): 1,\n",
       " ('Thang4', 220465): 1,\n",
       " ('Thang4', 220405): 0,\n",
       " ('Thang4', 230112): 1,\n",
       " ('Thang4', 230118): 1,\n",
       " ('Thang4', 230015): 1,\n",
       " ('Thang4', '230084A'): 0,\n",
       " ('Thang4', 230050): 0,\n",
       " ('Thang4', 230122): 0,\n",
       " ('Thang4', 230119): 1,\n",
       " ('Thang4', 230124): 0,\n",
       " ('Thang4', 220490): 1,\n",
       " ('Thang4', 230125): 1,\n",
       " ('Thang4', 220426): 1,\n",
       " ('Thang4', 220275): 1,\n",
       " ('Thang4', 230130): 1,\n",
       " ('Thang4', 230143): 1,\n",
       " ('Thang4', 230137): 1,\n",
       " ('Thang4', 230142): 1,\n",
       " ('Thang4', 220091): 1,\n",
       " ('Thang4', 230026): 1,\n",
       " ('Thang4', 230044): 0,\n",
       " ('Thang4', 220483): 1,\n",
       " ('Thang4', 230138): 1,\n",
       " ('Thang4', 230148): 1,\n",
       " ('Thang4', 220455): 0,\n",
       " ('Thang4', 230006): 1}"
      ]
     },
     "execution_count": 10,
     "metadata": {},
     "output_type": "execute_result"
    }
   ],
   "source": [
    "result_dict"
   ]
  },
  {
   "cell_type": "code",
   "execution_count": 11,
   "metadata": {},
   "outputs": [],
   "source": [
    "img_paths = glob('img/*/**')"
   ]
  },
  {
   "cell_type": "code",
   "execution_count": 16,
   "metadata": {},
   "outputs": [
    {
     "data": {
      "text/plain": [
       "111"
      ]
     },
     "execution_count": 16,
     "metadata": {},
     "output_type": "execute_result"
    }
   ],
   "source": [
    "len(img_paths)"
   ]
  },
  {
   "cell_type": "code",
   "execution_count": 17,
   "metadata": {},
   "outputs": [],
   "source": [
    "path_dict = {}\n",
    "for path in img_paths:\n",
    "    for key, value in result_dict.items():\n",
    "        if str(key[0]) in path and str(key[1]) in path:\n",
    "            path_dict[path] = value"
   ]
  },
  {
   "cell_type": "code",
   "execution_count": 18,
   "metadata": {},
   "outputs": [
    {
     "name": "stdout",
     "output_type": "stream",
     "text": [
      "Các path không có trong path_dict:\n",
      "\n",
      "Số lượng path bị thiếu: 0\n"
     ]
    }
   ],
   "source": [
    "# Tìm các path không có trong path_dict\n",
    "missing_paths = set(img_paths) - set(path_dict.keys())\n",
    "\n",
    "# In ra các path bị thiếu\n",
    "print(\"Các path không có trong path_dict:\")\n",
    "for path in missing_paths:\n",
    "    print(path)\n",
    "\n",
    "# In ra số lượng path bị thiếu\n",
    "print(f\"\\nSố lượng path bị thiếu: {len(missing_paths)}\")"
   ]
  },
  {
   "cell_type": "code",
   "execution_count": 21,
   "metadata": {},
   "outputs": [
    {
     "data": {
      "text/plain": [
       "111"
      ]
     },
     "execution_count": 21,
     "metadata": {},
     "output_type": "execute_result"
    }
   ],
   "source": [
    "len(path_dict)"
   ]
  },
  {
   "cell_type": "code",
   "execution_count": 22,
   "metadata": {},
   "outputs": [],
   "source": [
    "import csv\n",
    "def dict_to_csv(data, filename):\n",
    "    with open(filename, 'w', newline='') as csvfile:\n",
    "        writer = csv.writer(csvfile)\n",
    "        writer.writerow(['img_path', 'label'])\n",
    "        for key, value in data.items():\n",
    "            writer.writerow([key, value])\n",
    "            \n",
    "dict_to_csv(path_dict, 'data.csv')"
   ]
  },
  {
   "cell_type": "code",
   "execution_count": 1,
   "metadata": {},
   "outputs": [],
   "source": [
    "import pandas as pd"
   ]
  },
  {
   "cell_type": "code",
   "execution_count": 3,
   "metadata": {},
   "outputs": [],
   "source": [
    "df = pd.read_csv('data.csv')"
   ]
  },
  {
   "cell_type": "code",
   "execution_count": 5,
   "metadata": {},
   "outputs": [
    {
     "data": {
      "text/plain": [
       "label\n",
       "1    85\n",
       "0    29\n",
       "Name: count, dtype: int64"
      ]
     },
     "execution_count": 5,
     "metadata": {},
     "output_type": "execute_result"
    }
   ],
   "source": [
    "df['label'].value_counts()"
   ]
  },
  {
   "cell_type": "code",
   "execution_count": null,
   "metadata": {},
   "outputs": [],
   "source": []
  }
 ],
 "metadata": {
  "kernelspec": {
   "display_name": "myenv",
   "language": "python",
   "name": "python3"
  },
  "language_info": {
   "codemirror_mode": {
    "name": "ipython",
    "version": 3
   },
   "file_extension": ".py",
   "mimetype": "text/x-python",
   "name": "python",
   "nbconvert_exporter": "python",
   "pygments_lexer": "ipython3",
   "version": "3.12.4"
  }
 },
 "nbformat": 4,
 "nbformat_minor": 2
}
