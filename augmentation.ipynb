{
 "cells": [
  {
   "cell_type": "code",
   "execution_count": 2,
   "metadata": {},
   "outputs": [],
   "source": [
    "import pandas as pd\n",
    "from glob import glob\n",
    "import os\n",
    "import re\n",
    "import cv2\n",
    "import numpy as np\n",
    "import math"
   ]
  },
  {
   "cell_type": "code",
   "execution_count": 5,
   "metadata": {},
   "outputs": [],
   "source": [
    "df = pd.read_csv('img_resize/img_resize.csv')\n",
    "paths, label = list(df['img_path']), list(df['label'])"
   ]
  },
  {
   "cell_type": "code",
   "execution_count": 6,
   "metadata": {},
   "outputs": [
    {
     "data": {
      "text/plain": [
       "label\n",
       "1    85\n",
       "0    29\n",
       "Name: count, dtype: int64"
      ]
     },
     "execution_count": 6,
     "metadata": {},
     "output_type": "execute_result"
    }
   ],
   "source": [
    "df['label'].value_counts()"
   ]
  },
  {
   "cell_type": "code",
   "execution_count": 7,
   "metadata": {},
   "outputs": [],
   "source": [
    "list_idx = [i for i, j in enumerate(label) if j == 0]\n",
    "path_imbalanced = [paths[i] for i in list_idx]\n",
    "path_imbalanced"
   ]
  },
  {
   "cell_type": "code",
   "execution_count": 1,
   "metadata": {},
   "outputs": [],
   "source": [
    "def aug_func(img_path, select: int):\n",
    "    img = cv2.imread(img_path)\n",
    "    \n",
    "    if select == 0:\n",
    "        # Flip horizontally\n",
    "        augmented = cv2.flip(img, 1)\n",
    "    elif select == 1:\n",
    "        # Rotate 90 degrees clockwise\n",
    "        augmented = cv2.rotate(img, cv2.ROTATE_90_CLOCKWISE)\n",
    "    elif select == 2:\n",
    "        # Add Gaussian noise\n",
    "        noise = np.random.normal(0, 25, img.shape).astype(np.uint8)\n",
    "        augmented = cv2.add(img, noise)\n",
    "    elif select == 3:\n",
    "        # Adjust brightness\n",
    "        brightness = 50\n",
    "        augmented = cv2.add(img, (brightness,brightness,brightness,0))\n",
    "    elif select == 4:\n",
    "        # Apply Gaussian blur\n",
    "        augmented = cv2.GaussianBlur(img, (5, 5), 0)\n",
    "    elif select == 5:\n",
    "        # Change color space (to grayscale)\n",
    "        augmented = cv2.cvtColor(img, cv2.COLOR_BGR2GRAY)\n",
    "    elif select == 6:\n",
    "        # Adjust contrast\n",
    "        contrast = 1.5\n",
    "        augmented = cv2.convertScaleAbs(img, alpha=contrast, beta=0)\n",
    "    elif select == 7:\n",
    "        # Thay đổi độ bão hòa\n",
    "        hsv = cv2.cvtColor(img, cv2.COLOR_BGR2HSV)\n",
    "        hsv[:,:,1] = hsv[:,:,1] * 1.5  # Tăng độ bão hòa lên 50%\n",
    "        augmented = cv2.cvtColor(hsv, cv2.COLOR_HSV2BGR)\n",
    "    elif select == 8:\n",
    "        # Áp dụng hiệu ứng cartoon\n",
    "        gray = cv2.cvtColor(img, cv2.COLOR_BGR2GRAY)\n",
    "        gray = cv2.medianBlur(gray, 5)\n",
    "        edges = cv2.adaptiveThreshold(gray, 255, cv2.ADAPTIVE_THRESH_MEAN_C, cv2.THRESH_BINARY, 9, 9)\n",
    "        color = cv2.bilateralFilter(img, 9, 300, 300)\n",
    "        augmented = cv2.bitwise_and(color, color, mask=edges)\n",
    "    elif select == 9:\n",
    "        # Thay đổi gamma\n",
    "        gamma = 1.5\n",
    "        invGamma = 1.0 / gamma\n",
    "        table = np.array([((i / 255.0) ** invGamma) * 255 for i in np.arange(0, 256)]).astype(\"uint8\")\n",
    "        augmented = cv2.LUT(img, table)\n",
    "    elif select == 10:\n",
    "        # Áp dụng hiệu ứng chồng màu (color overlay)\n",
    "        overlay_color = np.random.randint(0, 256, 3).tolist()\n",
    "        overlay = np.full(img.shape, overlay_color, dtype=np.uint8)\n",
    "        augmented = cv2.addWeighted(img, 0.8, overlay, 0.2, 0)\n",
    "    else:\n",
    "        augmented = img  # Trả về ảnh gốc nếu select nằm ngoài phạm vi\n",
    "    \n",
    "    return augmented"
   ]
  },
  {
   "cell_type": "code",
   "execution_count": 15,
   "metadata": {},
   "outputs": [
    {
     "data": {
      "text/html": [
       "<div>\n",
       "<style scoped>\n",
       "    .dataframe tbody tr th:only-of-type {\n",
       "        vertical-align: middle;\n",
       "    }\n",
       "\n",
       "    .dataframe tbody tr th {\n",
       "        vertical-align: top;\n",
       "    }\n",
       "\n",
       "    .dataframe thead th {\n",
       "        text-align: right;\n",
       "    }\n",
       "</style>\n",
       "<table border=\"1\" class=\"dataframe\">\n",
       "  <thead>\n",
       "    <tr style=\"text-align: right;\">\n",
       "      <th></th>\n",
       "      <th>img_path</th>\n",
       "      <th>label</th>\n",
       "    </tr>\n",
       "  </thead>\n",
       "  <tbody>\n",
       "    <tr>\n",
       "      <th>0</th>\n",
       "      <td>img/Thang12/25_220388_well08_zid99_12</td>\n",
       "      <td>1</td>\n",
       "    </tr>\n",
       "    <tr>\n",
       "      <th>1</th>\n",
       "      <td>img/Thang12/10_220126_well02_zid99_0</td>\n",
       "      <td>1</td>\n",
       "    </tr>\n",
       "    <tr>\n",
       "      <th>2</th>\n",
       "      <td>img/Thang12/11_220276A_well10_zid99_1</td>\n",
       "      <td>1</td>\n",
       "    </tr>\n",
       "    <tr>\n",
       "      <th>3</th>\n",
       "      <td>img/Thang12/12_220450_well03_zid99_2</td>\n",
       "      <td>1</td>\n",
       "    </tr>\n",
       "    <tr>\n",
       "      <th>4</th>\n",
       "      <td>img/Thang12/13_220448_well02_zid99_3</td>\n",
       "      <td>1</td>\n",
       "    </tr>\n",
       "    <tr>\n",
       "      <th>...</th>\n",
       "      <td>...</td>\n",
       "      <td>...</td>\n",
       "    </tr>\n",
       "    <tr>\n",
       "      <th>157</th>\n",
       "      <td>img/Thang4/8_230119_well08_zid99_112</td>\n",
       "      <td>1</td>\n",
       "    </tr>\n",
       "    <tr>\n",
       "      <th>158</th>\n",
       "      <td>img/Thang4/9_220405_well09_zid99_113</td>\n",
       "      <td>0</td>\n",
       "    </tr>\n",
       "    <tr>\n",
       "      <th>159</th>\n",
       "      <td>img/Thang4/9_220405_well09_zid99_113_augmentation</td>\n",
       "      <td>0</td>\n",
       "    </tr>\n",
       "    <tr>\n",
       "      <th>160</th>\n",
       "      <td>img/Thang4/9_220405_well09_zid99_113_augmentat...</td>\n",
       "      <td>0</td>\n",
       "    </tr>\n",
       "    <tr>\n",
       "      <th>161</th>\n",
       "      <td>img/Thang4/9_230038_well09_zid99_114</td>\n",
       "      <td>1</td>\n",
       "    </tr>\n",
       "  </tbody>\n",
       "</table>\n",
       "<p>162 rows × 2 columns</p>\n",
       "</div>"
      ],
      "text/plain": [
       "                                              img_path  label\n",
       "0                img/Thang12/25_220388_well08_zid99_12      1\n",
       "1                 img/Thang12/10_220126_well02_zid99_0      1\n",
       "2                img/Thang12/11_220276A_well10_zid99_1      1\n",
       "3                 img/Thang12/12_220450_well03_zid99_2      1\n",
       "4                 img/Thang12/13_220448_well02_zid99_3      1\n",
       "..                                                 ...    ...\n",
       "157               img/Thang4/8_230119_well08_zid99_112      1\n",
       "158               img/Thang4/9_220405_well09_zid99_113      0\n",
       "159  img/Thang4/9_220405_well09_zid99_113_augmentation      0\n",
       "160  img/Thang4/9_220405_well09_zid99_113_augmentat...      0\n",
       "161               img/Thang4/9_230038_well09_zid99_114      1\n",
       "\n",
       "[162 rows x 2 columns]"
      ]
     },
     "execution_count": 15,
     "metadata": {},
     "output_type": "execute_result"
    }
   ],
   "source": [
    "new_df = pd.read_csv('data_with_augmentation.csv')\n",
    "new_df"
   ]
  },
  {
   "cell_type": "code",
   "execution_count": 16,
   "metadata": {},
   "outputs": [],
   "source": [
    "X, y = list(new_df['img_path']), list(new_df['label'])"
   ]
  },
  {
   "cell_type": "code",
   "execution_count": 17,
   "metadata": {},
   "outputs": [],
   "source": [
    "X_origin, X_aug, y_origin, y_aug = [], [], [], []"
   ]
  },
  {
   "cell_type": "code",
   "execution_count": 18,
   "metadata": {},
   "outputs": [],
   "source": [
    "for i, path in enumerate(X):\n",
    "    if 'augmentation' in path:\n",
    "        X_aug.append(path)\n",
    "        y_aug.append(y[i])\n",
    "    else:\n",
    "        X_origin.append(path)\n",
    "        y_origin.append(y[i])"
   ]
  },
  {
   "cell_type": "code",
   "execution_count": 19,
   "metadata": {},
   "outputs": [],
   "source": [
    "def get_stratified_test_set(X, y, n_samples_per_class=10):\n",
    "    indices_class_0 = np.where(y == 0)[0]\n",
    "    indices_class_1 = np.where(y == 1)[0]\n",
    "\n",
    "    test_indices_class_0 = np.random.choice(indices_class_0, n_samples_per_class, replace=False)\n",
    "    test_indices_class_1 = np.random.choice(indices_class_1, n_samples_per_class, replace=False)\n",
    "\n",
    "    test_indices = np.concatenate([test_indices_class_0, test_indices_class_1])\n",
    "\n",
    "    mask = np.zeros(len(y), dtype=bool)\n",
    "    mask[test_indices] = True\n",
    "\n",
    "    X_test, X_remainder = X[mask], X[~mask]\n",
    "    y_test, y_remainder = y[mask], y[~mask]\n",
    "\n",
    "    return X_remainder, X_test, y_remainder, y_test"
   ]
  },
  {
   "cell_type": "code",
   "execution_count": 20,
   "metadata": {},
   "outputs": [],
   "source": [
    "from  sklearn.model_selection import train_test_split\n",
    "import numpy as np\n",
    "X_origin_arr, X_aug_arr, y_origin_arr, y_aug_arr = np.array(X_origin), np.array(X_aug), np.array(y_origin), np.array(y_aug)\n",
    "X_remainder, X_test, y_remainder, y_test = get_stratified_test_set(X_origin_arr, y_origin_arr)\n",
    "X_train, X_val, y_train, y_val = get_stratified_test_set(X_remainder, y_remainder, n_samples_per_class=15)"
   ]
  },
  {
   "cell_type": "code",
   "execution_count": 21,
   "metadata": {},
   "outputs": [],
   "source": [
    "X_train_augmentation = np.concatenate((X_train, X_aug_arr))\n",
    "y_train_augmentation = np.concatenate((y_train, y_aug_arr))"
   ]
  },
  {
   "cell_type": "code",
   "execution_count": 45,
   "metadata": {},
   "outputs": [
    {
     "data": {
      "text/plain": [
       "array(['img/Thang12/25_220388_well08_zid99_12',\n",
       "       'img/Thang12/10_220126_well02_zid99_0',\n",
       "       'img/Thang12/12_220450_well03_zid99_2',\n",
       "       'img/Thang12/14_220431_well02_zid99_4',\n",
       "       'img/Thang12/16_220484_well09_zid99_5',\n",
       "       'img/Thang12/20_220381_well01_zid99_9',\n",
       "       'img/Thang12/28_220457_well09_zid99_15',\n",
       "       'img/Thang3/220464_well02_zid99_63',\n",
       "       'img/Thang3/2_230022A_well02_zid99_34',\n",
       "       'img/Thang3/11_220276A_well11_zid99_28',\n",
       "       'img/Thang3/1_220467_well01_zid99_22',\n",
       "       'img/Thang3/1_230033_well01_zid99_24',\n",
       "       'img/Thang3/1_230064_well01_zid99_26',\n",
       "       'img/Thang3/220240_well09_zid99_58',\n",
       "       'img/Thang3/220375_well13_zid99_59',\n",
       "       'img/Thang3/220466_well07_zid99_64',\n",
       "       'img/Thang3/220481_well02_zid99_66',\n",
       "       'img/Thang3/230013_well04_zid99_37',\n",
       "       'img/Thang3/230027_well01_zid99_40',\n",
       "       'img/Thang3/230032_well05_zid99_41',\n",
       "       'img/Thang3/230043_well08_zid99_42',\n",
       "       'img/Thang3/2_220243_well02_zid99_31',\n",
       "       'img/Thang3/2_220464_well02_zid99_33',\n",
       "       'img/Thang3/2_220474_well02_zid99_30',\n",
       "       'img/Thang3/3_230052_well03_zid99_45',\n",
       "       'img/Thang3/3_230076_well03_zid99_46',\n",
       "       'img/Thang3/4_220365_well04_zid99_47',\n",
       "       'img/Thang3/4_230061_well04_zid04_49',\n",
       "       'img/Thang3/6_220356_well06_zid99_52',\n",
       "       'img/Thang3/6_230047_well06_zid99_54',\n",
       "       'img/Thang3/7_230068_well07_zid04_55',\n",
       "       'img/Thang4/1_230065_well01_zid99_77',\n",
       "       'img/Thang4/4_230006_well04_zid99_98',\n",
       "       'img/Thang4/10_230148_well10_zid99_84',\n",
       "       'img/Thang4/11_230056A_well11_zid99_85',\n",
       "       'img/Thang4/12_220483_well12_zid04_86',\n",
       "       'img/Thang4/13_230118_well13_zid99_87',\n",
       "       'img/Thang4/1_220140_well01_zid99_71',\n",
       "       'img/Thang4/1_220447_well01_zid99_73',\n",
       "       'img/Thang4/1_220455_well01_zid99_74',\n",
       "       'img/Thang4/1_230071_well01_zid99_78',\n",
       "       'img/Thang4/1_230104_well01_zid99_79',\n",
       "       'img/Thang4/1_230137_well01_zid99_81',\n",
       "       'img/Thang4/2_230091_well02_zid99_91',\n",
       "       'img/Thang4/2_230142_well02_zid99_68',\n",
       "       'img/Thang4/3_230098_well04_zid99_92',\n",
       "       'img/Thang4/3_230109_well03_zid99_93',\n",
       "       'img/Thang4/4_220266_well04_zid99_95',\n",
       "       'img/Thang4/4_220449_well04_zid99_97',\n",
       "       'img/Thang4/4_230086_well04_zid99_99',\n",
       "       'img/Thang4/4_230143_well04_zid99_100',\n",
       "       'img/Thang4/5_220030_well05_zid99_101',\n",
       "       'img/Thang4/5_220140_well05_zid99_102',\n",
       "       'img/Thang4/5_230075_well05_zid99_69',\n",
       "       'img/Thang4/5_230096_well05_zid99_105',\n",
       "       'img/Thang4/5_230125_well05_zid99_106',\n",
       "       'img/Thang4/6_230094_well06_zid99_107',\n",
       "       'img/Thang4/6_230103_well06_zid99_108',\n",
       "       'img/Thang4/6_230124_well06_zid99_109',\n",
       "       'img/Thang4/7_230026_well07_zid99_110',\n",
       "       'img/Thang4/8_230119_well08_zid99_112',\n",
       "       'img/Thang12/19_220427_well10_zid99_7_augmentation',\n",
       "       'img/Thang12/19_220427_well10_zid99_7_augmentation_1',\n",
       "       'img/Thang12/26_220393_well11_zid99_13_augmentation',\n",
       "       'img/Thang12/27_220377_well04_zid99_14_augmentation',\n",
       "       'img/Thang12/27_220377_well04_zid99_14_augmentation_2',\n",
       "       'img/Thang12/32_220452_well04_zid99_16_augmentation',\n",
       "       'img/Thang12/32_220452_well04_zid99_16_augmentation_1',\n",
       "       'img/Thang12/8_220231_well02_zid99_18_augmentation',\n",
       "       'img/Thang12/8_220231_well02_zid99_18_augmentation_2',\n",
       "       'img/Thang12/9_220417A_well01_zid99_19_augmentation',\n",
       "       'img/Thang3/1_220013_well01_zid99_29_augmentation',\n",
       "       'img/Thang3/1_220013_well01_zid99_29_augmentation_1',\n",
       "       'img/Thang3/1_220013_well01_zid99_29_augmentation_2',\n",
       "       'img/Thang3/1_230054_well01_zid99_25_augmentation',\n",
       "       'img/Thang3/220013_well01_zid99_20_augmentation',\n",
       "       'img/Thang3/220013_well01_zid99_20_augmentation_2',\n",
       "       'img/Thang3/220134_well05_zid99_57_augmentation',\n",
       "       'img/Thang3/220134_well05_zid99_57_augmentation_1',\n",
       "       'img/Thang3/220417A_well04_zid99_61_augmentation',\n",
       "       'img/Thang3/220417A_well04_zid99_61_augmentation_2',\n",
       "       'img/Thang3/220474_well02_zid99_65_augmentation',\n",
       "       'img/Thang3/230008_well04_zid99_21_augmentation',\n",
       "       'img/Thang3/230008_well04_zid99_21_augmentation_1',\n",
       "       'img/Thang3/230008_well04_zid99_21_augmentation_2',\n",
       "       'img/Thang3/2_220474_well02_zid99_30_augmentation',\n",
       "       'img/Thang3/4_230008_well04_zid99_48_augmentation',\n",
       "       'img/Thang3/4_230008_well04_zid99_48_augmentation_2',\n",
       "       'img/Thang3/5_220134_well05_zid99_50_augmentation',\n",
       "       'img/Thang3/5_220134_well05_zid99_50_augmentation_1',\n",
       "       'img/Thang3/5_230040_well05_zid99_51_augmentation',\n",
       "       'img/Thang3/5_230040_well05_zid99_51_augmentation_2',\n",
       "       'img/Thang3/6_220427_well06_zid99_53_augmentation',\n",
       "       'img/Thang3/8_220411_well08_zid99_56_augmentation',\n",
       "       'img/Thang3/8_220411_well08_zid99_56_augmentation_1',\n",
       "       'img/Thang3/8_220411_well08_zid99_56_augmentation_2',\n",
       "       'img/Thang4/1_210131_well01_zid99_70_augmentation',\n",
       "       'img/Thang4/1_220313_well01_zid99_72_augmentation',\n",
       "       'img/Thang4/1_220313_well01_zid99_72_augmentation_2',\n",
       "       'img/Thang4/1_220455_well01_zid99_74_augmentation',\n",
       "       'img/Thang4/1_220455_well01_zid99_74_augmentation_1',\n",
       "       'img/Thang4/2_230044_well02_zid99_90_augmentation',\n",
       "       'img/Thang4/2_230044_well02_zid99_90_augmentation_2',\n",
       "       'img/Thang4/5_230050_well05_zid99_103_augmentation',\n",
       "       'img/Thang4/5_230084A_well05_zid99_104_augmentation',\n",
       "       'img/Thang4/5_230084A_well05_zid99_104_augmentation_1',\n",
       "       'img/Thang4/5_230084A_well05_zid99_104_augmentation_2',\n",
       "       'img/Thang4/6_230124_well06_zid99_109_augmentation',\n",
       "       'img/Thang4/7_230122_well07_zid99_111_augmentation',\n",
       "       'img/Thang4/7_230122_well07_zid99_111_augmentation_2',\n",
       "       'img/Thang4/9_220405_well09_zid99_113_augmentation',\n",
       "       'img/Thang4/9_220405_well09_zid99_113_augmentation_1'],\n",
       "      dtype='<U52')"
      ]
     },
     "execution_count": 45,
     "metadata": {},
     "output_type": "execute_result"
    }
   ],
   "source": [
    "X_train_augmentation"
   ]
  },
  {
   "cell_type": "code",
   "execution_count": 23,
   "metadata": {},
   "outputs": [
    {
     "data": {
      "text/plain": [
       "(30,)"
      ]
     },
     "execution_count": 23,
     "metadata": {},
     "output_type": "execute_result"
    }
   ],
   "source": [
    "X_val.shape"
   ]
  },
  {
   "cell_type": "code",
   "execution_count": 25,
   "metadata": {},
   "outputs": [
    {
     "data": {
      "text/plain": [
       "array(['img/Thang12/11_220276A_well10_zid99_1',\n",
       "       'img/Thang12/19_220427_well10_zid99_7',\n",
       "       'img/Thang12/1_220192_well07_zid99_8',\n",
       "       'img/Thang12/21_220245_well10_zid99_10',\n",
       "       'img/Thang12/26_220393_well11_zid99_13',\n",
       "       'img/Thang12/27_220377_well04_zid99_14',\n",
       "       'img/Thang12/33_220402_well09_zid99_17',\n",
       "       'img/Thang12/9_220417A_well01_zid99_19',\n",
       "       'img/Thang3/10_220452_well10_zid99_27',\n",
       "       'img/Thang3/1_220013_well01_zid99_29',\n",
       "       'img/Thang3/1_230013_well04_zid99_23',\n",
       "       'img/Thang3/1_230054_well01_zid99_25',\n",
       "       'img/Thang3/220013_well01_zid99_20',\n",
       "       'img/Thang3/220417A_well04_zid99_61',\n",
       "       'img/Thang3/220434_well06_zid99_62',\n",
       "       'img/Thang3/220474_well02_zid99_65',\n",
       "       'img/Thang3/230001_well01_zid99_67',\n",
       "       'img/Thang3/230008_well04_zid99_21',\n",
       "       'img/Thang3/230014_well04_zid99_38',\n",
       "       'img/Thang3/3_220009_well03_zid99_43',\n",
       "       'img/Thang3/3_220358_well03_zid99_44',\n",
       "       'img/Thang3/4_230008_well04_zid99_48',\n",
       "       'img/Thang3/5_220134_well05_zid99_50',\n",
       "       'img/Thang3/5_230040_well05_zid99_51',\n",
       "       'img/Thang4/1_220313_well01_zid99_72',\n",
       "       'img/Thang4/1_220490_well01_zid99_76',\n",
       "       'img/Thang4/1_230112_well01_zid99_80',\n",
       "       'img/Thang4/4_220426_well04_zid99_96',\n",
       "       'img/Thang4/7_230122_well07_zid99_111',\n",
       "       'img/Thang4/9_230038_well09_zid99_114'], dtype='<U37')"
      ]
     },
     "execution_count": 25,
     "metadata": {},
     "output_type": "execute_result"
    }
   ],
   "source": [
    "X_val"
   ]
  },
  {
   "cell_type": "code",
   "execution_count": 30,
   "metadata": {},
   "outputs": [],
   "source": [
    "import os\n",
    "import shutil"
   ]
  },
  {
   "cell_type": "code",
   "execution_count": 34,
   "metadata": {},
   "outputs": [],
   "source": [
    "source = '/mnt/sdb2/DaiLe/CLDNN/img/Thang3/hi'\n",
    "destination = '/mnt/sdb2/DaiLe/CLDNN/dataset/train/hi'"
   ]
  },
  {
   "cell_type": "code",
   "execution_count": 48,
   "metadata": {},
   "outputs": [],
   "source": [
    "for path in X_train_augmentation:\n",
    "    name = path.split('/')[-1]\n",
    "    source = path\n",
    "    destination = f'dataset/train/{name}'\n",
    "    shutil.copytree(source, destination)"
   ]
  },
  {
   "cell_type": "code",
   "execution_count": 49,
   "metadata": {},
   "outputs": [],
   "source": [
    "for path in X_val:\n",
    "    name = path.split('/')[-1]\n",
    "    source = path\n",
    "    destination = f'dataset/val/{name}'\n",
    "    shutil.copytree(source, destination)"
   ]
  },
  {
   "cell_type": "code",
   "execution_count": 50,
   "metadata": {},
   "outputs": [],
   "source": [
    "for path in X_test:\n",
    "    name = path.split('/')[-1]\n",
    "    source = path\n",
    "    destination = f'dataset/test/{name}'\n",
    "    shutil.copytree(source, destination)"
   ]
  },
  {
   "cell_type": "code",
   "execution_count": null,
   "metadata": {},
   "outputs": [],
   "source": []
  },
  {
   "cell_type": "code",
   "execution_count": 51,
   "metadata": {},
   "outputs": [],
   "source": [
    "# type(X_val)"
   ]
  },
  {
   "cell_type": "code",
   "execution_count": 60,
   "metadata": {},
   "outputs": [],
   "source": [
    "import pandas as pd\n",
    "\n",
    "X_train_df = pd.DataFrame(X_train_augmentation, columns=['img_paths'])\n",
    "y_train_df = pd.DataFrame(y_train_augmentation, columns=['label'])\n",
    "\n",
    "X_val_df = pd.DataFrame(X_val, columns=['img_paths'])\n",
    "y_val_df = pd.DataFrame(y_val, columns=['label'])\n",
    "\n",
    "X_test_df = pd.DataFrame(X_test, columns=['img_paths'])\n",
    "y_test_df = pd.DataFrame(y_test, columns=['label'])\n",
    "\n",
    "train_df = pd.concat([X_train_df, y_train_df], axis=1)\n",
    "val_df = pd.concat([X_val_df, y_val_df], axis=1)\n",
    "test_df = pd.concat([X_test_df, y_test_df], axis=1)\n",
    "\n",
    "train_df.to_csv('train_data.csv', index=False)\n",
    "val_df.to_csv('val_data.csv', index=False)\n",
    "test_df.to_csv('test_data.csv', index=False)\n"
   ]
  },
  {
   "cell_type": "code",
   "execution_count": null,
   "metadata": {},
   "outputs": [],
   "source": []
  }
 ],
 "metadata": {
  "kernelspec": {
   "display_name": "myenv",
   "language": "python",
   "name": "python3"
  },
  "language_info": {
   "codemirror_mode": {
    "name": "ipython",
    "version": 3
   },
   "file_extension": ".py",
   "mimetype": "text/x-python",
   "name": "python",
   "nbconvert_exporter": "python",
   "pygments_lexer": "ipython3",
   "version": "3.12.4"
  }
 },
 "nbformat": 4,
 "nbformat_minor": 2
}
